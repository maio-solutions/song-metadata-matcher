{
 "cells": [
  {
   "cell_type": "markdown",
   "id": "1f95f08f-f1e7-460d-907e-c6e5e39386fc",
   "metadata": {},
   "source": [
    "# Feature Extraction"
   ]
  },
  {
   "cell_type": "markdown",
   "id": "89ddfffb-9f1b-4e80-a896-5469a966c17e",
   "metadata": {},
   "source": [
    "## N Grams features (title + artists)"
   ]
  },
  {
   "cell_type": "code",
   "execution_count": 1,
   "id": "3d655a70-69e4-483b-a84d-0f526261485c",
   "metadata": {},
   "outputs": [],
   "source": [
    "from nltk.util import ngrams\n",
    "from nltk.tokenize import word_tokenize\n",
    "import re\n",
    "import numpy as np"
   ]
  },
  {
   "cell_type": "code",
   "execution_count": 2,
   "id": "9e7860b2-88a0-4239-8d8b-97f958dca7ae",
   "metadata": {},
   "outputs": [],
   "source": [
    "def sentence_to_grams(sentences):\n",
    "    sentences = \" \".join(sentences)\n",
    "    sentence_cleaned = re.sub(r\"\", \"\", sentences)\n",
    "    grams = list(sentence_cleaned)\n",
    "    return grams"
   ]
  },
  {
   "cell_type": "code",
   "execution_count": 3,
   "id": "68d39c06-6bb1-41f2-ad70-c33d3eacbd27",
   "metadata": {},
   "outputs": [],
   "source": [
    "def create_dist_dict(grams, n):\n",
    "    dist_dict = {}\n",
    "    for i in ngrams(grams, n=n, pad_right=False, right_pad_symbol=\" \"):\n",
    "        gram2 = \"\".join(i)\n",
    "        dist_dict[gram2] = 0\n",
    "        \n",
    "    return dist_dict"
   ]
  },
  {
   "cell_type": "code",
   "execution_count": 4,
   "id": "05192a7e-4342-459f-bd35-0b22c84ca42b",
   "metadata": {},
   "outputs": [],
   "source": [
    "def create_distribution(sentence, dist_dict, n):\n",
    "    grams = list(sentence)\n",
    "    sentence_dist = dist_dict.copy()\n",
    "    for i in ngrams(grams, n=n, pad_right=False, right_pad_symbol=\" \"):\n",
    "        gram2 = \"\".join(i)\n",
    "        sentence_dist[gram2] += 1\n",
    "\n",
    "\n",
    "    dist_values = np.array(list(sentence_dist.values()))\n",
    "    dist_values = (dist_values / np.sum(dist_values))    \n",
    "    \n",
    "    return dist_values\n",
    "    "
   ]
  },
  {
   "cell_type": "code",
   "execution_count": 143,
   "id": "9fcc8c5f-6f92-4db9-bd82-5ee9be7bf58a",
   "metadata": {},
   "outputs": [],
   "source": [
    "sentence1 = \"aa\"\n",
    "sentence2 = \"baa\""
   ]
  },
  {
   "cell_type": "code",
   "execution_count": 144,
   "id": "e0fadfca-25ee-4c84-9e21-33557eb744c5",
   "metadata": {},
   "outputs": [],
   "source": [
    "def divergence(dist1, dist2):\n",
    "    eps = 1e-10\n",
    "    A = (dist1 + eps)/(dist2 + eps) \n",
    "    return np.sum(np.log(A)*dist1)"
   ]
  },
  {
   "cell_type": "code",
   "execution_count": 145,
   "id": "95462871-2e5b-42b3-a184-510f094eb04c",
   "metadata": {},
   "outputs": [],
   "source": [
    "def calculate_divergence(sentence1, sentence2):\n",
    "    n = 2\n",
    "    dist_dict = create_dist_dict(sentence_to_grams((sentence1, sentence2)), n=n)\n",
    "    dist1 = create_distribution(sentence1, dist_dict, n=n)\n",
    "    dist2 = create_distribution(sentence2, dist_dict, n=n)\n",
    "\n",
    "    return divergence(dist1, dist2)"
   ]
  },
  {
   "cell_type": "code",
   "execution_count": null,
   "id": "c9a32e6e-55d7-4c14-9126-2d26027da6be",
   "metadata": {},
   "outputs": [],
   "source": []
  },
  {
   "cell_type": "code",
   "execution_count": 146,
   "id": "be5c35fc-be59-4996-920e-724d25a2e695",
   "metadata": {},
   "outputs": [
    {
     "data": {
      "text/plain": [
       "0.6931471804599453"
      ]
     },
     "execution_count": 146,
     "metadata": {},
     "output_type": "execute_result"
    }
   ],
   "source": [
    "calculate_divergence(sentence1, sentence2)"
   ]
  },
  {
   "cell_type": "code",
   "execution_count": null,
   "id": "21dd07cb-08ae-448c-b2ac-95b76be95e79",
   "metadata": {},
   "outputs": [],
   "source": []
  },
  {
   "cell_type": "code",
   "execution_count": 46,
   "id": "fe8d8b75-84dc-434d-b1fc-5e4705e9dc25",
   "metadata": {},
   "outputs": [
    {
     "data": {
      "text/plain": [
       "<BarContainer object of 11 artists>"
      ]
     },
     "execution_count": 46,
     "metadata": {},
     "output_type": "execute_result"
    },
    {
     "data": {
      "image/png": "[encoded data removed]",
      "text/plain": [
       "<Figure size 640x480 with 1 Axes>"
      ]
     },
     "metadata": {},
     "output_type": "display_data"
    }
   ],
   "source": [
    "import matplotlib.pyplot as plt\n",
    "\n",
    "plt.bar(x=list(dist_dict.keys()), height=dist1)\n",
    "plt.bar(x=list(dist_dict.keys()), height=dist2, alpha=0.2, color=\"red\")"
   ]
  },
  {
   "cell_type": "markdown",
   "id": "e14e8aaa-0aa1-446c-943b-719884cf3a54",
   "metadata": {},
   "source": [
    "## Album Cover Features"
   ]
  },
  {
   "cell_type": "code",
   "execution_count": null,
   "id": "5fbc5b49-2726-40b7-af1c-c1698dd4e64e",
   "metadata": {},
   "outputs": [],
   "source": [
    "import pandas as pd\n",
    "import seaborn as sns\n",
    "import scipy as sp"
   ]
  },
  {
   "cell_type": "code",
   "execution_count": null,
   "id": "deb1d610-f282-43e0-87e8-540e54095dd9",
   "metadata": {},
   "outputs": [],
   "source": [
    "import requests\n",
    "from PIL import Image\n",
    "import numpy as np\n",
    "from io import BytesIO\n",
    "\n",
    "image_url1 = 'https://i.scdn.co/image/ab67616d0000b27377eb7a5b9367de79c3b92a49'\n",
    "image_url2 = \"https://i.scdn.co/image/ab67616d0000b2733346c315c0e0e71c15ceec49\"\n",
    "\n",
    "def get_image_array_from_url(image_url):\n",
    "    response = requests.get(image_url)\n",
    "    \n",
    "    if response.status_code == 200:\n",
    "        # Open the image using PIL\n",
    "        img = Image.open(BytesIO(response.content))\n",
    "    \n",
    "        # Convert the PIL image to a NumPy array\n",
    "        img_array = np.array(img)\n",
    "        \n",
    "    return img_array\n",
    "\n",
    "img_array1 = get_image_array_from_url(image_url1)\n",
    "img_array2 = get_image_array_from_url(image_url2)"
   ]
  },
  {
   "cell_type": "code",
   "execution_count": null,
   "id": "182d795f-9d08-4ffb-a976-c3d8429be877",
   "metadata": {},
   "outputs": [],
   "source": [
    "#Get image histogram dist; can be used for entropy\n",
    "image_dist1 = (np.histogram(img_array1.flatten(), bins=30, density=True))[0]\n",
    "image_dist2 = (np.histogram(img_array2.flatten(), bins=30, density=True))[0]\n",
    "\n",
    "sns.histplot(img_array1.reshape(3, -1)[2], bins=10, stat=\"density\")"
   ]
  },
  {
   "cell_type": "code",
   "execution_count": null,
   "id": "217eb7bb-7923-4480-a697-b6f8f6a5f888",
   "metadata": {},
   "outputs": [],
   "source": [
    "def image_entropy(image_dist):\n",
    "    eps = 1e-10\n",
    "    return -1*np.sum(image_dist*np.log(image_dist+eps))"
   ]
  },
  {
   "cell_type": "code",
   "execution_count": null,
   "id": "2f66f21a-fbaf-4c4f-b3cd-5c5719968a72",
   "metadata": {},
   "outputs": [],
   "source": [
    "calculate_image_features(get_image_array_from_url(\"https://i.scdn.co/image/ab67616d0000b27360fd902b829e5eb60812fcf2\")).shape"
   ]
  },
  {
   "cell_type": "code",
   "execution_count": null,
   "id": "6c4e548b-2503-4fd9-b953-c64b41a9da2f",
   "metadata": {},
   "outputs": [],
   "source": [
    "def calculate_image_features(img_array):\n",
    "    if img_array.shape[-1] != 3:\n",
    "        img_array = np.stack((img_array, img_array, img_array)).reshape(3, -1)\n",
    "        \n",
    "    \n",
    "    image_dist_r = (np.histogram(img_array.reshape(3, -1)[0], bins=20, density=True))[0]\n",
    "    image_dist_g = (np.histogram(img_array.reshape(3, -1)[1], bins=20, density=True))[0]\n",
    "    image_dist_b = (np.histogram(img_array.reshape(3, -1)[2], bins=20, density=True))[0]\n",
    "        \n",
    "   \n",
    "\n",
    "    reshaped_img = img_array.T.reshape(3, -1)\n",
    "    \n",
    "    rgb_mean = np.mean(reshaped_img, axis=1)\n",
    "    rgb_std = np.std(reshaped_img, axis=1)\n",
    "    img_cov_det = np.linalg.det(np.sqrt(np.abs(np.cov(reshaped_img))))\n",
    "    img_entropy_r = image_entropy(image_dist_r)\n",
    "    img_entropy_g = image_entropy(image_dist_g)\n",
    "    img_entropy_b = image_entropy(image_dist_b)\n",
    "    img_skewness_r = sp.stats.skew(image_dist_r)\n",
    "    img_skewness_g = sp.stats.skew(image_dist_g)\n",
    "    img_skewness_b = sp.stats.skew(image_dist_b)\n",
    "\n",
    "    return sp.stats.zscore(np.array([rgb_mean[0], rgb_mean[1], rgb_mean[2], \\\n",
    "                                     rgb_std[0], rgb_std[1], rgb_std[2], \\\n",
    "                                     img_skewness_r, img_skewness_g, img_skewness_b, \\\n",
    "                                     img_entropy_r, img_entropy_g, img_entropy_b, \\\n",
    "                                     img_cov_det\n",
    "                                    ]))"
   ]
  },
  {
   "cell_type": "code",
   "execution_count": null,
   "id": "eaa964d1-74a5-4ede-a89d-130df4c73d1a",
   "metadata": {},
   "outputs": [],
   "source": [
    "def image_similarity(vec1, vec2):\n",
    "    vec1_normalized = vec1/np.sqrt(vec1@vec1)\n",
    "    vec2_normalized = vec2/np.sqrt(vec2@vec2)\n",
    "\n",
    "    return vec1_normalized.T@vec2_normalized\n",
    "    "
   ]
  },
  {
   "cell_type": "code",
   "execution_count": null,
   "id": "73608009-6452-462a-834e-bd39ce7cc48d",
   "metadata": {},
   "outputs": [],
   "source": [
    "vec1 = calculate_image_features(img_array1)\n",
    "vec2 = calculate_image_features(img_array2)"
   ]
  },
  {
   "cell_type": "code",
   "execution_count": null,
   "id": "7c9e618a-2d53-46d4-8683-05182b9a5d0b",
   "metadata": {},
   "outputs": [],
   "source": [
    "vec2"
   ]
  },
  {
   "cell_type": "markdown",
   "id": "1b53d446-2c6c-4f4b-8406-77b282191c37",
   "metadata": {},
   "source": [
    "## Release Date and Song Length\n",
    "As extra features, we can also include a boolean for release date, song length and explicit. Song length especially will have high correlation with correct match. "
   ]
  },
  {
   "cell_type": "code",
   "execution_count": null,
   "id": "e28500c6-7a1d-4a7c-b072-dd2141dd44f9",
   "metadata": {},
   "outputs": [],
   "source": [
    "length_1 = 189837\n",
    "length_2 = 190837\n",
    "\n",
    "release_date_1 = \"2022-02-23\"\n",
    "release_date_2 = \"2022-02-23\"\n",
    "explicit_1 = True\n",
    "explicit_2 = True\n",
    "\n",
    "duration_boolean = np.abs(length_1 - length_2) < 2000\n",
    "release_date_boolean = release_date_1 == release_date_2\n",
    "explicit_boolean = explicit_1 == explicit_2"
   ]
  },
  {
   "cell_type": "markdown",
   "id": "7369bd18-11d0-40c3-b2fc-a84b9302a019",
   "metadata": {},
   "source": [
    "# Labeling"
   ]
  },
  {
   "cell_type": "code",
   "execution_count": null,
   "id": "d94e863d-0bb3-4f39-a935-053224c8548b",
   "metadata": {},
   "outputs": [],
   "source": [
    "import os\n",
    "import pandas as pd\n",
    "import matplotlib.pyplot as plt\n",
    "import string\n",
    "import random"
   ]
  },
  {
   "cell_type": "code",
   "execution_count": null,
   "id": "aeba1866-20a6-42e6-a4b2-b5ad8ea94734",
   "metadata": {},
   "outputs": [],
   "source": [
    "def add_random_char_to_str(str):\n",
    "    pos = random.randint(0, len(str) - 1)\n",
    "    char = random.choice(string.ascii_letters)\n",
    "    str_list = list(str)\n",
    "    str_list[pos] = char\n",
    "    \n",
    "    return \"\".join(str_list)\n",
    "    \n",
    "    "
   ]
  },
  {
   "cell_type": "code",
   "execution_count": null,
   "id": "e4fa612e-48ea-4a3e-86a6-5a83ebd2a400",
   "metadata": {},
   "outputs": [],
   "source": [
    "def add_noise_to_img(img_array):\n",
    "    #return img_array\n",
    "    noise = np.random.normal(loc=0, scale=2, size=img_array.shape)\n",
    "#\n",
    "    img_array = img_array + noise\n",
    "    #\n",
    "    return np.clip(img_array, 0, 255).astype(np.uint8)\n",
    "\n",
    "#add_noise_to_img(true_track_img)"
   ]
  },
  {
   "cell_type": "code",
   "execution_count": null,
   "id": "5c0a1ddd-b383-4da9-a650-87b4e0565c9d",
   "metadata": {},
   "outputs": [],
   "source": [
    "data_path = os.listdir(\"./data2\")\n",
    "\n",
    "\n",
    "#plt.imshow(true_track_img)\n",
    "#print(\"true img\", true_track[\"img_url\"])\n",
    "\n",
    "tracks_feature_extraction = []\n",
    "\n",
    "for path in data_path:\n",
    "    \n",
    "    track_df = pd.read_csv(\"./data2/\"+path)\n",
    "    \n",
    "    true_track = track_df.iloc[-1]\n",
    "    true_track_text = add_random_char_to_str(f\"{true_track['track_name']} {true_track['album_name']} {true_track['artists']}\")\n",
    "    \n",
    "    true_track_img = add_noise_to_img(get_image_array_from_url(true_track[\"img_url\"]))\n",
    "    \n",
    "    for track in track_df.iterrows():\n",
    "        track_text = add_random_char_to_str(f\"{track[1]['track_name']} {track[1]['album_name']} {track[1]['artists']} {random.choice(string.ascii_letters)}\")\n",
    "        text_divergence = calculate_divergence(track_text, true_track_text)\n",
    "        \n",
    "        release_date = true_track[\"release_date\"] == track[1][\"release_date\"]\n",
    "        duration_boolean = np.abs(true_track[\"duration\"] - track[1][\"duration\"]) < 2000\n",
    "\n",
    "        track_img = (get_image_array_from_url(track[1][\"img_url\"]))\n",
    "        img_sim = image_similarity(calculate_image_features(track_img), calculate_image_features(true_track_img))\n",
    "    \n",
    "        track_dict = {\n",
    "            \"text_divergence\": text_divergence,\n",
    "            \"release_date_match\": release_date,\n",
    "            \"duration_match\": duration_boolean,\n",
    "            \"img_similarity\": img_sim,\n",
    "            \"label\": track[1][\"label\"]\n",
    "        }\n",
    "        \n",
    "        tracks_feature_extraction.append(track_dict)\n",
    "        \n",
    "        \n"
   ]
  },
  {
   "cell_type": "code",
   "execution_count": null,
   "id": "3e40c038-25d1-49b5-aa1c-1e0ae1827cf3",
   "metadata": {},
   "outputs": [],
   "source": [
    "extracted_data  = pd.DataFrame(tracks_feature_extraction)"
   ]
  },
  {
   "cell_type": "code",
   "execution_count": null,
   "id": "ede7ee56-abfd-47da-a129-1df78abde7e0",
   "metadata": {},
   "outputs": [],
   "source": [
    "extracted_data.to_csv(\"./data/extracted_data.csv\")"
   ]
  }
 ],
 "metadata": {
  "kernelspec": {
   "display_name": "Python 3 (ipykernel)",
   "language": "python",
   "name": "python3"
  },
  "language_info": {
   "codemirror_mode": {
    "name": "ipython",
    "version": 3
   },
   "file_extension": ".py",
   "mimetype": "text/x-python",
   "name": "python",
   "nbconvert_exporter": "python",
   "pygments_lexer": "ipython3",
   "version": "3.10.13"
  }
 },
 "nbformat": 4,
 "nbformat_minor": 5
}
